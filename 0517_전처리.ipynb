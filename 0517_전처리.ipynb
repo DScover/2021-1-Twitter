{
 "cells": [
  {
   "cell_type": "code",
   "execution_count": 1,
   "metadata": {},
   "outputs": [],
   "source": [
    "import pandas as pd\n",
    "import os\n",
    "import numpy as np\n",
    "import re\n",
    "import glob\n",
    "import matplotlib.pyplot as plt"
   ]
  },
  {
   "cell_type": "code",
   "execution_count": 2,
   "metadata": {},
   "outputs": [
    {
     "data": {
      "text/plain": [
       "'C:\\\\Users\\\\YUHA\\\\Desktop\\\\DScover\\\\사회2조 final project'"
      ]
     },
     "execution_count": 2,
     "metadata": {},
     "output_type": "execute_result"
    }
   ],
   "source": [
    "pwd"
   ]
  },
  {
   "cell_type": "code",
   "execution_count": 3,
   "metadata": {},
   "outputs": [
    {
     "name": "stdout",
     "output_type": "stream",
     "text": [
      "C:\\Users\\YUHA\\Desktop\\DScover\\사회2조 final project\\data\n"
     ]
    }
   ],
   "source": [
    "%cd data"
   ]
  },
  {
   "cell_type": "markdown",
   "metadata": {},
   "source": [
    "# 1. 파일 합치기"
   ]
  },
  {
   "cell_type": "code",
   "execution_count": 4,
   "metadata": {},
   "outputs": [
    {
     "data": {
      "text/plain": [
       "['0516_성매매유형', '0516_성매매행위', '0516_트렌드']"
      ]
     },
     "execution_count": 4,
     "metadata": {},
     "output_type": "execute_result"
    }
   ],
   "source": [
    "keyword_list=glob.glob('0516*')\n",
    "keyword_list"
   ]
  },
  {
   "cell_type": "code",
   "execution_count": 6,
   "metadata": {},
   "outputs": [],
   "source": [
    "x=pd.DataFrame()\n",
    "for k in keyword_list:\n",
    "    file_list = os.listdir(k)\n",
    "    \n",
    "    for f_name in file_list:\n",
    "        file_dir2 = '%s/%s' %(k, f_name) #파일 경로 설정\n",
    "        a = pd.read_csv(file_dir2, encoding='CP949')\n",
    "        m = f_name[0:-7] #검색어 : 'abc.csv'부분 삭제\n",
    "        search_word = [m for i in range(len(a))] #파일 이름을 검색어 리스트로 생성\n",
    "        a['search_word']=search_word #열 추가\n",
    "        x = pd.concat([x, a])"
   ]
  },
  {
   "cell_type": "code",
   "execution_count": 7,
   "metadata": {},
   "outputs": [
    {
     "name": "stdout",
     "output_type": "stream",
     "text": [
      "<class 'pandas.core.frame.DataFrame'>\n",
      "Int64Index: 257085 entries, 0 to 1270\n",
      "Data columns (total 33 columns):\n",
      " #   Column             Non-Null Count   Dtype  \n",
      "---  ------             --------------   -----  \n",
      " 0   id                 257085 non-null  float64\n",
      " 1   conversation_id    257085 non-null  float64\n",
      " 2   created_at         257085 non-null  object \n",
      " 3   date               257085 non-null  object \n",
      " 4   time               257085 non-null  object \n",
      " 5   timezone           257085 non-null  object \n",
      " 6   user_id            257085 non-null  float64\n",
      " 7   username           257085 non-null  object \n",
      " 8   name               257085 non-null  object \n",
      " 9   tweet              257085 non-null  object \n",
      " 10  language           257084 non-null  object \n",
      " 11  mentions           257084 non-null  object \n",
      " 12  urls               257084 non-null  object \n",
      " 13  photos             257084 non-null  object \n",
      " 14  replies_count      257084 non-null  float64\n",
      " 15  retweets_count     257084 non-null  float64\n",
      " 16  likes_count        257084 non-null  float64\n",
      " 17  hashtags           257084 non-null  object \n",
      " 18  cashtags           257084 non-null  object \n",
      " 19  link               257084 non-null  object \n",
      " 20  retweet            257084 non-null  object \n",
      " 21  quote_url          347 non-null     object \n",
      " 22  video              257084 non-null  float64\n",
      " 23  thumbnail          183263 non-null  object \n",
      " 24  reply_to           257084 non-null  object \n",
      " 25  tweet_len          257085 non-null  int64  \n",
      " 26  nick_len           257085 non-null  int64  \n",
      " 27  nick_count_Q       257085 non-null  int64  \n",
      " 28  tweet_count_Q      257085 non-null  int64  \n",
      " 29  tweet_count_space  257085 non-null  int64  \n",
      " 30  space_div_len      257085 non-null  float64\n",
      " 31  last_word          257085 non-null  bool   \n",
      " 32  search_word        257085 non-null  object \n",
      "dtypes: bool(1), float64(8), int64(5), object(19)\n",
      "memory usage: 65.0+ MB\n"
     ]
    }
   ],
   "source": [
    "x.info()"
   ]
  },
  {
   "cell_type": "code",
   "execution_count": 8,
   "metadata": {},
   "outputs": [],
   "source": [
    "x.to_csv('dataset1.csv', index=False, encoding='CP949')"
   ]
  },
  {
   "cell_type": "markdown",
   "metadata": {},
   "source": [
    "# 2. 전처리"
   ]
  },
  {
   "cell_type": "markdown",
   "metadata": {},
   "source": [
    "- [x] null 값 처리<br>\n",
    "- [x] timezone, cashtags, retweet 열 삭제 <br>\n",
    "- [x] data type 정리<br>\n",
    "- [x] 명사 비율 열 추가<br>\n",
    "- [x] 성매매광고트윗 판별 열(y) 추가<br>\n",
    "- [ ] outlier 처리<br>"
   ]
  },
  {
   "cell_type": "code",
   "execution_count": 9,
   "metadata": {},
   "outputs": [
    {
     "name": "stderr",
     "output_type": "stream",
     "text": [
      "C:\\Users\\YUHA\\anaconda3\\lib\\site-packages\\IPython\\core\\interactiveshell.py:3071: DtypeWarning: Columns (5,20,21) have mixed types.Specify dtype option on import or set low_memory=False.\n",
      "  has_raised = await self.run_ast_nodes(code_ast.body, cell_name,\n"
     ]
    }
   ],
   "source": [
    "x = pd.read_csv('dataset1.csv', encoding='CP949', low_memory=False)"
   ]
  },
  {
   "cell_type": "markdown",
   "metadata": {},
   "source": [
    "### null 값 처리"
   ]
  },
  {
   "cell_type": "code",
   "execution_count": 10,
   "metadata": {},
   "outputs": [
    {
     "data": {
      "text/plain": [
       "id                        0\n",
       "conversation_id           0\n",
       "created_at                0\n",
       "date                      0\n",
       "time                      0\n",
       "timezone                  0\n",
       "user_id                   0\n",
       "username                  0\n",
       "name                      0\n",
       "tweet                     0\n",
       "language                  1\n",
       "mentions                  1\n",
       "urls                      1\n",
       "photos                    1\n",
       "replies_count             1\n",
       "retweets_count            1\n",
       "likes_count               1\n",
       "hashtags                  1\n",
       "cashtags                  1\n",
       "link                      1\n",
       "retweet                   1\n",
       "quote_url            256738\n",
       "video                     1\n",
       "thumbnail             73822\n",
       "reply_to                  1\n",
       "tweet_len                 0\n",
       "nick_len                  0\n",
       "nick_count_Q              0\n",
       "tweet_count_Q             0\n",
       "tweet_count_space         0\n",
       "space_div_len             0\n",
       "last_word                 0\n",
       "search_word               0\n",
       "dtype: int64"
      ]
     },
     "execution_count": 10,
     "metadata": {},
     "output_type": "execute_result"
    }
   ],
   "source": [
    "x.isnull().sum() #null값 있는 열 확인"
   ]
  },
  {
   "cell_type": "code",
   "execution_count": 11,
   "metadata": {},
   "outputs": [
    {
     "data": {
      "text/html": [
       "<div>\n",
       "<style scoped>\n",
       "    .dataframe tbody tr th:only-of-type {\n",
       "        vertical-align: middle;\n",
       "    }\n",
       "\n",
       "    .dataframe tbody tr th {\n",
       "        vertical-align: top;\n",
       "    }\n",
       "\n",
       "    .dataframe thead th {\n",
       "        text-align: right;\n",
       "    }\n",
       "</style>\n",
       "<table border=\"1\" class=\"dataframe\">\n",
       "  <thead>\n",
       "    <tr style=\"text-align: right;\">\n",
       "      <th></th>\n",
       "      <th>id</th>\n",
       "      <th>conversation_id</th>\n",
       "      <th>created_at</th>\n",
       "      <th>date</th>\n",
       "      <th>time</th>\n",
       "      <th>timezone</th>\n",
       "      <th>user_id</th>\n",
       "      <th>username</th>\n",
       "      <th>name</th>\n",
       "      <th>tweet</th>\n",
       "      <th>language</th>\n",
       "      <th>mentions</th>\n",
       "      <th>urls</th>\n",
       "      <th>photos</th>\n",
       "      <th>replies_count</th>\n",
       "      <th>retweets_count</th>\n",
       "      <th>likes_count</th>\n",
       "      <th>hashtags</th>\n",
       "      <th>cashtags</th>\n",
       "      <th>link</th>\n",
       "      <th>retweet</th>\n",
       "      <th>quote_url</th>\n",
       "      <th>video</th>\n",
       "      <th>thumbnail</th>\n",
       "      <th>reply_to</th>\n",
       "      <th>tweet_len</th>\n",
       "      <th>nick_len</th>\n",
       "      <th>nick_count_Q</th>\n",
       "      <th>tweet_count_Q</th>\n",
       "      <th>tweet_count_space</th>\n",
       "      <th>space_div_len</th>\n",
       "      <th>last_word</th>\n",
       "      <th>search_word</th>\n",
       "    </tr>\n",
       "  </thead>\n",
       "  <tbody>\n",
       "    <tr>\n",
       "      <th>205147</th>\n",
       "      <td>1.380000e+18</td>\n",
       "      <td>1.380000e+18</td>\n",
       "      <td>2021-04-08 08:02:31 대한민국 표준시</td>\n",
       "      <td>2021-04-08</td>\n",
       "      <td>8:02:31</td>\n",
       "      <td>900</td>\n",
       "      <td>9.670000e+17</td>\n",
       "      <td>swcd0nkor50385d</td>\n",
       "      <td>럽셍</td>\n",
       "      <td>??광명애인대행 ??김포섹</td>\n",
       "      <td>NaN</td>\n",
       "      <td>NaN</td>\n",
       "      <td>NaN</td>\n",
       "      <td>NaN</td>\n",
       "      <td>NaN</td>\n",
       "      <td>NaN</td>\n",
       "      <td>NaN</td>\n",
       "      <td>NaN</td>\n",
       "      <td>NaN</td>\n",
       "      <td>NaN</td>\n",
       "      <td>NaN</td>\n",
       "      <td>NaN</td>\n",
       "      <td>NaN</td>\n",
       "      <td>NaN</td>\n",
       "      <td>NaN</td>\n",
       "      <td>14</td>\n",
       "      <td>2</td>\n",
       "      <td>0</td>\n",
       "      <td>4</td>\n",
       "      <td>1</td>\n",
       "      <td>0.071</td>\n",
       "      <td>False</td>\n",
       "      <td>콜걸</td>\n",
       "    </tr>\n",
       "  </tbody>\n",
       "</table>\n",
       "</div>"
      ],
      "text/plain": [
       "                  id  conversation_id                    created_at  \\\n",
       "205147  1.380000e+18     1.380000e+18  2021-04-08 08:02:31 대한민국 표준시   \n",
       "\n",
       "              date     time timezone       user_id         username name  \\\n",
       "205147  2021-04-08  8:02:31      900  9.670000e+17  swcd0nkor50385d   럽셍   \n",
       "\n",
       "                 tweet language mentions urls photos  replies_count  \\\n",
       "205147  ??광명애인대행 ??김포섹      NaN      NaN  NaN    NaN            NaN   \n",
       "\n",
       "        retweets_count  likes_count hashtags cashtags link retweet quote_url  \\\n",
       "205147             NaN          NaN      NaN      NaN  NaN     NaN       NaN   \n",
       "\n",
       "        video thumbnail reply_to  tweet_len  nick_len  nick_count_Q  \\\n",
       "205147    NaN       NaN      NaN         14         2             0   \n",
       "\n",
       "        tweet_count_Q  tweet_count_space  space_div_len  last_word search_word  \n",
       "205147              4                  1          0.071      False          콜걸  "
      ]
     },
     "execution_count": 11,
     "metadata": {},
     "output_type": "execute_result"
    }
   ],
   "source": [
    "pd.set_option('display.max_columns', 100) #모든 열 보이기\n",
    "x[x['link'].isnull()] #너무 많은 열에서 null인 행이 하나 있어서"
   ]
  },
  {
   "cell_type": "code",
   "execution_count": 12,
   "metadata": {},
   "outputs": [],
   "source": [
    "x = x.drop(index=205147) #삭제"
   ]
  },
  {
   "cell_type": "code",
   "execution_count": 41,
   "metadata": {},
   "outputs": [],
   "source": [
    "x = x.reset_index() #인덱스 재설정"
   ]
  },
  {
   "cell_type": "code",
   "execution_count": 13,
   "metadata": {},
   "outputs": [],
   "source": [
    "x[['quote_url','thumbnail']] = x[['quote_url','thumbnail']].fillna('[]') #null값 채우기"
   ]
  },
  {
   "cell_type": "markdown",
   "metadata": {},
   "source": [
    "### 의미 없는 열 삭제"
   ]
  },
  {
   "cell_type": "code",
   "execution_count": 14,
   "metadata": {},
   "outputs": [
    {
     "name": "stdout",
     "output_type": "stream",
     "text": [
      "id : 12472\n",
      "conversation_id : 11753\n",
      "created_at : 91323\n",
      "date : 59\n",
      "time : 55554\n",
      "timezone : 3\n",
      "user_id : 10051\n",
      "username : 11677\n",
      "name : 10693\n",
      "tweet : 85451\n",
      "language : 31\n",
      "mentions : 43\n",
      "urls : 562\n",
      "photos : 71340\n",
      "replies_count : 25\n",
      "retweets_count : 106\n",
      "likes_count : 128\n",
      "hashtags : 1012\n",
      "cashtags : 1\n",
      "link : 111497\n",
      "retweet : 1\n",
      "quote_url : 325\n",
      "video : 2\n",
      "thumbnail : 71494\n",
      "reply_to : 1910\n",
      "tweet_len : 232\n",
      "nick_len : 50\n",
      "nick_count_Q : 34\n",
      "tweet_count_Q : 48\n",
      "tweet_count_space : 73\n",
      "space_div_len : 377\n",
      "last_word : 2\n"
     ]
    }
   ],
   "source": [
    "for i in range(32):\n",
    "    print(x.columns[i], ':', x.iloc[:,i].nunique()) #각 열의 고유값 개수"
   ]
  },
  {
   "cell_type": "code",
   "execution_count": 15,
   "metadata": {},
   "outputs": [],
   "source": [
    "x = x.drop(['timezone','cashtags','retweet'], axis=1) #고유값이 하나인 열과 timezone 열 삭제"
   ]
  },
  {
   "cell_type": "markdown",
   "metadata": {},
   "source": [
    "### data type 정리"
   ]
  },
  {
   "cell_type": "code",
   "execution_count": 16,
   "metadata": {},
   "outputs": [],
   "source": [
    "x[['id', 'conversation_id','user_id']] = x[['id', 'conversation_id','user_id']].astype(str)\n",
    "x[['replies_count','retweets_count','likes_count','video','last_word']] = x[['replies_count','retweets_count','likes_count','video','last_word']].astype(int)"
   ]
  },
  {
   "cell_type": "markdown",
   "metadata": {},
   "source": [
    "### 명사 비율 열 추가"
   ]
  },
  {
   "cell_type": "code",
   "execution_count": 17,
   "metadata": {},
   "outputs": [],
   "source": [
    "from konlpy.tag import Okt\n",
    "from collections import Counter\n",
    "okt=Okt() #사용 객체 선언"
   ]
  },
  {
   "cell_type": "code",
   "execution_count": 44,
   "metadata": {},
   "outputs": [],
   "source": [
    "noun_div_pos = []\n",
    "for i in range(len(x)):\n",
    "    noun = okt.nouns(x['tweet'][i]) #명사 추출\n",
    "    pos = okt.pos(x['tweet'][i]) #pos : part of speech 품사\n",
    "    a = len(noun)/len(pos) #명사 비율\n",
    "    noun_div_pos.append(a)\n",
    "x['noun_div_pos'] = noun_div_pos"
   ]
  },
  {
   "cell_type": "markdown",
   "metadata": {},
   "source": [
    "### 성매매광고트윗 판별 열(y) 추가"
   ]
  },
  {
   "cell_type": "code",
   "execution_count": 47,
   "metadata": {},
   "outputs": [],
   "source": [
    "y=[]\n",
    "#일반 트윗 검색어\n",
    "trend = ['더블헤더', '미세먼지', '보건실침대', '수업시간몰폰', '어버이날', '피어리스', '허벅지씨름', '호흡곤란']\n",
    "for word in x['search_word']:\n",
    "    if (any(word in t for t in trend)):\n",
    "        y.append(0)\n",
    "    else:\n",
    "        y.append(1)"
   ]
  },
  {
   "cell_type": "code",
   "execution_count": 48,
   "metadata": {},
   "outputs": [],
   "source": [
    "x['y']=y"
   ]
  },
  {
   "cell_type": "code",
   "execution_count": 54,
   "metadata": {},
   "outputs": [],
   "source": [
    "x.to_csv('성매매광고트윗_데이터셋.csv', index=False, encoding='CP949')"
   ]
  },
  {
   "cell_type": "markdown",
   "metadata": {},
   "source": [
    "### oulier 처리"
   ]
  },
  {
   "cell_type": "code",
   "execution_count": null,
   "metadata": {},
   "outputs": [],
   "source": [
    "#IQR 방식을 이용한 oulier index를 얻는 함수\n",
    "def get_outlier(df=None, column=None, weight=1.5):\n",
    "    quantile_25 = np.percentile(df[column].values, 25)\n",
    "    quantile_75 = np.percentile(df[column].values, 75)\n",
    "    \n",
    "    IQR = quantile_75 - quantile_25\n",
    "    IQR_weight = IQR*weight\n",
    "    \n",
    "    lowest = quantile_25 - IQR_weight\n",
    "    highest = quantile_75 + IQR_weight\n",
    "    \n",
    "    outlier_idx = df[column][(df[column] < lowest)|df[column]>highest].index\n",
    "    return outlier_idx"
   ]
  }
 ],
 "metadata": {
  "kernelspec": {
   "display_name": "Python 3",
   "language": "python",
   "name": "python3"
  },
  "language_info": {
   "codemirror_mode": {
    "name": "ipython",
    "version": 3
   },
   "file_extension": ".py",
   "mimetype": "text/x-python",
   "name": "python",
   "nbconvert_exporter": "python",
   "pygments_lexer": "ipython3",
   "version": "3.8.3"
  }
 },
 "nbformat": 4,
 "nbformat_minor": 4
}
