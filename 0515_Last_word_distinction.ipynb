{
 "cells": [
  {
   "cell_type": "code",
   "execution_count": 59,
   "metadata": {},
   "outputs": [],
   "source": [
    "import pandas as pd\n",
    "import os"
   ]
  },
  {
   "cell_type": "code",
   "execution_count": 60,
   "metadata": {},
   "outputs": [
    {
     "data": {
      "text/plain": [
       "'C:\\\\Users\\\\YUHA\\\\Desktop\\\\DScover\\\\사회2조 final project\\\\data\\\\성매매행위문구_0515새벽'"
      ]
     },
     "execution_count": 60,
     "metadata": {},
     "output_type": "execute_result"
    }
   ],
   "source": [
    "pwd"
   ]
  },
  {
   "cell_type": "code",
   "execution_count": 61,
   "metadata": {},
   "outputs": [
    {
     "name": "stdout",
     "output_type": "stream",
     "text": [
      "C:\\Users\\YUHA\\Desktop\\DScover\\사회2조 final project\n"
     ]
    }
   ],
   "source": [
    "%cd C:/Users/YUHA/Desktop/DScover/사회2조 final project"
   ]
  },
  {
   "cell_type": "code",
   "execution_count": 62,
   "metadata": {},
   "outputs": [
    {
     "name": "stdout",
     "output_type": "stream",
     "text": [
      "C:\\Users\\YUHA\\Desktop\\DScover\\사회2조 final project\\data\\트렌드_0515새벽\n"
     ]
    }
   ],
   "source": [
    "#%cd data/성매매유형_0515새벽\n",
    "#%cd data/성매매행위문구_0515새벽\n",
    "%cd data/트렌드_0515새벽"
   ]
  },
  {
   "cell_type": "code",
   "execution_count": 63,
   "metadata": {},
   "outputs": [
    {
     "data": {
      "text/plain": [
       "['더블헤더a.csv',\n",
       " '미세먼지a.csv',\n",
       " '보건실침대a.csv',\n",
       " '성매매광고트윗_트렌드a.csv',\n",
       " '수업시간몰폰a.csv',\n",
       " '어버이날a.csv',\n",
       " '피어리스a.csv',\n",
       " '허벅지씨름a.csv',\n",
       " '호흡곤란a.csv']"
      ]
     },
     "execution_count": 63,
     "metadata": {},
     "output_type": "execute_result"
    }
   ],
   "source": [
    "keyword_list = os.listdir()\n",
    "keyword_list.sort()\n",
    "keyword_list"
   ]
  },
  {
   "cell_type": "markdown",
   "metadata": {},
   "source": [
    "### 트윗의 마지막 단어의 형태가 '영어+숫자'인지 여부 판별 열 추가"
   ]
  },
  {
   "cell_type": "code",
   "execution_count": 64,
   "metadata": {},
   "outputs": [],
   "source": [
    "for k in keyword_list:\n",
    "    file_dir='%s' %k #파일 경로 설정\n",
    "    data=pd.read_csv(file_dir) #파일 불러오기\n",
    "    list = []\n",
    "    lastWord=[]\n",
    "    \n",
    "    for i in range(len(data)): #데이터 행 수 만큼 반복\n",
    "        if (len(data[\"tweet\"][i].split(\" \"))>=3): #tweet에 단어의 수가 3개 이상인 경우\n",
    "            list.append(data[\"tweet\"][i].split(\" \")[-3]) #list에 단어 추가\n",
    "        else: list.append(\" \") #3개 이하인 경우 list에 공백 추가\n",
    "    \n",
    "    for i in range(len(data)): #데이터 행 수 만큼 반복\n",
    "        if (len(list[i])>=2): #list의 단어가 2자 이상인 경우\n",
    "            lastWord.append((list[i][0].isalpha()) & (list[i][-1].isdigit())) #영어로 시작해서 숫자로 끝나는지 판별\n",
    "        else:\n",
    "            lastWord.append(False) #2자 이하인 경우 False\n",
    "    \n",
    "    data['last_word']=lastWord #last_word 판별 열 추가\n",
    "    m=k.split('.')[0]\n",
    "    data.to_csv('%sb.csv'%m, index=False, encoding='euc_kr')"
   ]
  }
 ],
 "metadata": {
  "kernelspec": {
   "display_name": "Python 3",
   "language": "python",
   "name": "python3"
  },
  "language_info": {
   "codemirror_mode": {
    "name": "ipython",
    "version": 3
   },
   "file_extension": ".py",
   "mimetype": "text/x-python",
   "name": "python",
   "nbconvert_exporter": "python",
   "pygments_lexer": "ipython3",
   "version": "3.8.3"
  }
 },
 "nbformat": 4,
 "nbformat_minor": 4
}
