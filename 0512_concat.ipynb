{
 "cells": [
  {
   "cell_type": "code",
   "execution_count": 142,
   "metadata": {},
   "outputs": [],
   "source": [
    "import pandas as pd\n",
    "import os\n",
    "import numpy as np"
   ]
  },
  {
   "cell_type": "code",
   "execution_count": 144,
   "metadata": {},
   "outputs": [
    {
     "data": {
      "text/plain": [
       "'C:\\\\Users\\\\YUHA\\\\Desktop\\\\DScover\\\\사회2조 final project\\\\크롤링 결과(한달치수집완료_계정제외)\\\\성매매유형'"
      ]
     },
     "execution_count": 144,
     "metadata": {},
     "output_type": "execute_result"
    }
   ],
   "source": [
    "pwd"
   ]
  },
  {
   "cell_type": "code",
   "execution_count": 145,
   "metadata": {},
   "outputs": [
    {
     "name": "stdout",
     "output_type": "stream",
     "text": [
      "C:\\Users\\YUHA\\Desktop\\DScover\\사회2조 final project\n"
     ]
    }
   ],
   "source": [
    "%cd C:/Users/YUHA/Desktop/DScover/사회2조 final project"
   ]
  },
  {
   "cell_type": "code",
   "execution_count": 146,
   "metadata": {},
   "outputs": [
    {
     "name": "stdout",
     "output_type": "stream",
     "text": [
      "C:\\Users\\YUHA\\Desktop\\DScover\\사회2조 final project\\크롤링 결과(한달치수집완료_계정제외)\\성매매행위문구\n"
     ]
    },
    {
     "data": {
      "text/plain": [
       "['###성매매 관련 검색어: 성매매 행위###']"
      ]
     },
     "execution_count": 146,
     "metadata": {},
     "output_type": "execute_result"
    }
   ],
   "source": [
    "#%cd 크롤링 결과(한달치수집완료_계정제외)/성매매유형\n",
    "#%cd 크롤링 결과(한달치수집완료_계정제외)/성매매행위문구\n",
    "#%cd 크롤링 결과(한달치수집완료_계정제외)/트렌드\n",
    "\n",
    "keyword_list = os.listdir() #현재 디렉토리에 있는 폴더 이름 가져오기\n",
    "keyword_list.sort() #순서 정렬\n",
    "keyword_list"
   ]
  },
  {
   "cell_type": "markdown",
   "metadata": {},
   "source": [
    "### 검색어 분류 별로 파일 합치기\n",
    "#### 성매매 유형, 성매매 행위 문구, 트렌드(일반)"
   ]
  },
  {
   "cell_type": "code",
   "execution_count": 147,
   "metadata": {},
   "outputs": [],
   "source": [
    "for k in keyword_list:\n",
    "    file_list = os.listdir(k) #폴더에 있는 파일 이름 가져오기\n",
    "    file_list.sort()\n",
    "    file_list=file_list[:-1] #쓸데없는 파일 제거\n",
    "    file_dir='%s' %k #경로 지정해주기\n",
    "    x=pd.DataFrame() #데이터프레임 생성\n",
    "    for f_name in file_list:\n",
    "        file_dir2 = '%s/%s' %(file_dir, f_name) #불러올 파일 경로\n",
    "        a = pd.read_csv(file_dir2, encoding='CP949')\n",
    "        x = pd.concat([x, a]) #위에서 생성한 데이터프레임에 합쳐주기\n",
    "    globals()[k]=x #전역변수 k에 데이터프레임 x 저장\n",
    "    x.to_csv('%s.csv' %k, index=False, encoding='CP949')"
   ]
  }
 ],
 "metadata": {
  "kernelspec": {
   "display_name": "Python 3",
   "language": "python",
   "name": "python3"
  },
  "language_info": {
   "codemirror_mode": {
    "name": "ipython",
    "version": 3
   },
   "file_extension": ".py",
   "mimetype": "text/x-python",
   "name": "python",
   "nbconvert_exporter": "python",
   "pygments_lexer": "ipython3",
   "version": "3.8.3"
  }
 },
 "nbformat": 4,
 "nbformat_minor": 4
}
