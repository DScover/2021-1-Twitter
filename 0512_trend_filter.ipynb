{
 "cells": [
  {
   "cell_type": "code",
   "execution_count": 31,
   "metadata": {},
   "outputs": [],
   "source": [
    "import pandas as pd\n",
    "import numpy as np\n",
    "import os\n",
    "import re\n",
    "import glob"
   ]
  },
  {
   "cell_type": "code",
   "execution_count": 23,
   "metadata": {},
   "outputs": [
    {
     "data": {
      "text/plain": [
       "'C:\\\\Users\\\\YUHA\\\\Desktop\\\\DScover\\\\사회2조 final project\\\\크롤링 결과(한달치수집완료_계정제외)\\\\트렌드'"
      ]
     },
     "execution_count": 23,
     "metadata": {},
     "output_type": "execute_result"
    }
   ],
   "source": [
    "pwd"
   ]
  },
  {
   "cell_type": "code",
   "execution_count": 32,
   "metadata": {},
   "outputs": [
    {
     "data": {
      "text/plain": [
       "['더블헤더.csv',\n",
       " '미세먼지.csv',\n",
       " '보건실침대.csv',\n",
       " '수업시간몰폰.csv',\n",
       " '어버이날.csv',\n",
       " '피어리스.csv',\n",
       " '허벅지씨름.csv',\n",
       " '호흡곤란.csv']"
      ]
     },
     "execution_count": 32,
     "metadata": {},
     "output_type": "execute_result"
    }
   ],
   "source": [
    "%cd 크롤링 결과(한달치수집완료_계정제외)/트렌드\n",
    "#keyword_list = os.listdir()\n",
    "condition='*.csv' #확장자가 csv인 파일을 가져오기 위한 조건\n",
    "keyword_list=glob.glob(condition)\n",
    "keyword_list.sort()\n",
    "keyword_list"
   ]
  },
  {
   "cell_type": "markdown",
   "metadata": {},
   "source": [
    "### 트렌드 트윗(일반 트윗) 속 성매매 광고 트윗 필터링"
   ]
  },
  {
   "cell_type": "code",
   "execution_count": 40,
   "metadata": {},
   "outputs": [],
   "source": [
    "x = pd.DataFrame()\n",
    "for k in keyword_list:\n",
    "    file_dir='%s' %k\n",
    "    data = pd.read_csv(file_dir, encoding='CP949')\n",
    "    \n",
    "    \n",
    "    filter=(data.photos!='[]')&(data.mentions=='[]')&(data.urls=='[]')&(data.replies_count==0)&(data.retweets_count==0)&(data.likes_count==0)&(data.hashtags=='[]')&(data.retweet==False)&(data.reply_to=='[]')\n",
    "    a=data.loc[filter] #필터된 행들\n",
    "    a_index=a.index #필터된 행들의 인덱스\n",
    "    \n",
    "    m=k.split('.')[0] #다시 저장할 때 '.csv' 제외하려고 그 앞부분만 가져옴\n",
    "    data2=data.drop(a_index) #필터된 행들 제외\n",
    "    data2.to_csv('%s_filtered.csv'%m, index=False, encoding='CP949')\n",
    "    \n",
    "    x = pd.concat([x, a]) #필터된 행들 모음\n",
    "    globals()['k']=x #전역변수 k에 필터된 행들 저장\n",
    "k.to_csv('성매매광고트윗.csv', index=False, encoding='CP949')"
   ]
  }
 ],
 "metadata": {
  "kernelspec": {
   "display_name": "Python 3",
   "language": "python",
   "name": "python3"
  },
  "language_info": {
   "codemirror_mode": {
    "name": "ipython",
    "version": 3
   },
   "file_extension": ".py",
   "mimetype": "text/x-python",
   "name": "python",
   "nbconvert_exporter": "python",
   "pygments_lexer": "ipython3",
   "version": "3.8.3"
  }
 },
 "nbformat": 4,
 "nbformat_minor": 4
}
