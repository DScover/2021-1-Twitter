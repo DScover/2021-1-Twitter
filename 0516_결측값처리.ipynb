{
 "cells": [
  {
   "cell_type": "code",
   "execution_count": 14,
   "metadata": {},
   "outputs": [],
   "source": [
    "import pandas as pd\n",
    "import os\n",
    "import glob"
   ]
  },
  {
   "cell_type": "code",
   "execution_count": 71,
   "metadata": {},
   "outputs": [
    {
     "data": {
      "text/plain": [
       "'C:\\\\Users\\\\YUHA\\\\Desktop\\\\DScover\\\\사회2조 final project\\\\data'"
      ]
     },
     "execution_count": 71,
     "metadata": {},
     "output_type": "execute_result"
    }
   ],
   "source": [
    "pwd"
   ]
  },
  {
   "cell_type": "code",
   "execution_count": 4,
   "metadata": {},
   "outputs": [
    {
     "name": "stdout",
     "output_type": "stream",
     "text": [
      "C:\\Users\\YUHA\\Desktop\\DScover\\사회2조 final project\\data\n"
     ]
    }
   ],
   "source": [
    "%cd data"
   ]
  },
  {
   "cell_type": "code",
   "execution_count": 5,
   "metadata": {},
   "outputs": [
    {
     "data": {
      "text/plain": [
       "['성매매유형_0515새벽', '성매매행위문구_0515새벽', '트렌드_0515새벽']"
      ]
     },
     "execution_count": 5,
     "metadata": {},
     "output_type": "execute_result"
    }
   ],
   "source": [
    "keyword_list=os.listdir()\n",
    "keyword_list"
   ]
  },
  {
   "cell_type": "code",
   "execution_count": 53,
   "metadata": {},
   "outputs": [],
   "source": [
    "x=pd.DataFrame()\n",
    "for k in keyword_list:\n",
    "    file_list = os.listdir(k)\n",
    "    file_list = [file for file in file_list if file.endswith(\"b.csv\")] #'b.csv'로 끝나는 파일명만 남기기 \n",
    "    \n",
    "    for f_name in file_list:\n",
    "        file_dir2 = '%s/%s' %(k, f_name) #파일 경로 설정\n",
    "        a = pd.read_csv(file_dir2, encoding='CP949')\n",
    "        x = pd.concat([x, a])"
   ]
  },
  {
   "cell_type": "code",
   "execution_count": 55,
   "metadata": {},
   "outputs": [
    {
     "name": "stdout",
     "output_type": "stream",
     "text": [
      "<class 'pandas.core.frame.DataFrame'>\n",
      "Int64Index: 257085 entries, 0 to 1270\n",
      "Data columns (total 43 columns):\n",
      " #   Column             Non-Null Count   Dtype  \n",
      "---  ------             --------------   -----  \n",
      " 0   id                 257085 non-null  float64\n",
      " 1   conversation_id    257085 non-null  float64\n",
      " 2   created_at         257085 non-null  object \n",
      " 3   date               257085 non-null  object \n",
      " 4   time               257085 non-null  object \n",
      " 5   timezone           257085 non-null  object \n",
      " 6   user_id            257085 non-null  float64\n",
      " 7   username           257085 non-null  object \n",
      " 8   name               257085 non-null  object \n",
      " 9   place              4 non-null       object \n",
      " 10  tweet              257085 non-null  object \n",
      " 11  language           257084 non-null  object \n",
      " 12  mentions           257084 non-null  object \n",
      " 13  urls               257084 non-null  object \n",
      " 14  photos             257084 non-null  object \n",
      " 15  replies_count      257084 non-null  float64\n",
      " 16  retweets_count     257084 non-null  float64\n",
      " 17  likes_count        257084 non-null  float64\n",
      " 18  hashtags           257084 non-null  object \n",
      " 19  cashtags           257084 non-null  object \n",
      " 20  link               257084 non-null  object \n",
      " 21  retweet            257084 non-null  object \n",
      " 22  quote_url          347 non-null     object \n",
      " 23  video              257084 non-null  float64\n",
      " 24  thumbnail          183263 non-null  object \n",
      " 25  near               0 non-null       float64\n",
      " 26  geo                0 non-null       float64\n",
      " 27  source             0 non-null       float64\n",
      " 28  user_rt_id         0 non-null       float64\n",
      " 29  user_rt            0 non-null       float64\n",
      " 30  retweet_id         0 non-null       float64\n",
      " 31  reply_to           257084 non-null  object \n",
      " 32  retweet_date       0 non-null       float64\n",
      " 33  translate          0 non-null       float64\n",
      " 34  trans_src          0 non-null       float64\n",
      " 35  trans_dest         0 non-null       float64\n",
      " 36  tweet_len          257085 non-null  int64  \n",
      " 37  nick_len           257085 non-null  int64  \n",
      " 38  nick_count_Q       257085 non-null  int64  \n",
      " 39  tweet_count_Q      257085 non-null  int64  \n",
      " 40  tweet_count_space  257085 non-null  int64  \n",
      " 41  space_div_len      257085 non-null  float64\n",
      " 42  last_word          257085 non-null  bool   \n",
      "dtypes: bool(1), float64(18), int64(5), object(19)\n",
      "memory usage: 66.0+ MB\n"
     ]
    }
   ],
   "source": [
    "x.info()"
   ]
  },
  {
   "cell_type": "markdown",
   "metadata": {},
   "source": [
    "### non-null값이 0~4인 열 삭제"
   ]
  },
  {
   "cell_type": "code",
   "execution_count": null,
   "metadata": {},
   "outputs": [],
   "source": [
    "# 9, 25, 26, 27, 28, 29, 30, 32, 33, 34, 35"
   ]
  },
  {
   "cell_type": "code",
   "execution_count": 73,
   "metadata": {},
   "outputs": [],
   "source": [
    "for k in keyword_list:\n",
    "    file_list = os.listdir(k)\n",
    "    file_list = [file for file in file_list if file.endswith(\"b.csv\")] #'b.csv'로 끝나는 파일명만 남기기\n",
    "    \n",
    "    for f_name in file_list:\n",
    "        file_dir2 = '%s/%s' %(k, f_name) #파일 경로 설정\n",
    "        a = pd.read_csv(file_dir2, encoding='CP949')\n",
    "        a = a.drop(a.iloc[:,[9, 25, 26, 27, 28, 29, 30, 32, 33, 34, 35]], axis=1)\n",
    "        \n",
    "        m = f_name.split(\".\")[0]\n",
    "        a.to_csv('%sc.csv' %m, index=False, encoding='CP949')"
   ]
  }
 ],
 "metadata": {
  "kernelspec": {
   "display_name": "Python 3",
   "language": "python",
   "name": "python3"
  },
  "language_info": {
   "codemirror_mode": {
    "name": "ipython",
    "version": 3
   },
   "file_extension": ".py",
   "mimetype": "text/x-python",
   "name": "python",
   "nbconvert_exporter": "python",
   "pygments_lexer": "ipython3",
   "version": "3.8.3"
  }
 },
 "nbformat": 4,
 "nbformat_minor": 4
}
