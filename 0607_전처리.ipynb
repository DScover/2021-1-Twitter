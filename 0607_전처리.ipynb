{
 "cells": [
  {
   "cell_type": "code",
   "execution_count": 1,
   "metadata": {},
   "outputs": [],
   "source": [
    "import pandas as pd\n",
    "import numpy as np\n",
    "import os\n",
    "import seaborn as sns\n",
    "import matplotlib.pyplot as plt"
   ]
  },
  {
   "cell_type": "code",
   "execution_count": 2,
   "metadata": {},
   "outputs": [
    {
     "data": {
      "text/plain": [
       "'C:\\\\Users\\\\YUHA\\\\Desktop\\\\DScover\\\\사회2조 final project'"
      ]
     },
     "execution_count": 2,
     "metadata": {},
     "output_type": "execute_result"
    }
   ],
   "source": [
    "pwd"
   ]
  },
  {
   "cell_type": "code",
   "execution_count": 3,
   "metadata": {},
   "outputs": [],
   "source": [
    "df=pd.read_csv('data/성매매광고트윗_데이터셋.csv', encoding='CP949', low_memory=False)"
   ]
  },
  {
   "cell_type": "code",
   "execution_count": 5,
   "metadata": {},
   "outputs": [
    {
     "name": "stdout",
     "output_type": "stream",
     "text": [
      "<class 'pandas.core.frame.DataFrame'>\n",
      "RangeIndex: 257084 entries, 0 to 257083\n",
      "Data columns (total 33 columns):\n",
      " #   Column             Non-Null Count   Dtype  \n",
      "---  ------             --------------   -----  \n",
      " 0   index              257084 non-null  int64  \n",
      " 1   id                 257084 non-null  float64\n",
      " 2   conversation_id    257084 non-null  float64\n",
      " 3   created_at         257084 non-null  object \n",
      " 4   date               257084 non-null  object \n",
      " 5   time               257084 non-null  object \n",
      " 6   user_id            257084 non-null  float64\n",
      " 7   username           257084 non-null  object \n",
      " 8   name               257084 non-null  object \n",
      " 9   tweet              257084 non-null  object \n",
      " 10  language           257084 non-null  object \n",
      " 11  mentions           257084 non-null  object \n",
      " 12  urls               257084 non-null  object \n",
      " 13  photos             257084 non-null  object \n",
      " 14  replies_count      257084 non-null  int64  \n",
      " 15  retweets_count     257084 non-null  int64  \n",
      " 16  likes_count        257084 non-null  int64  \n",
      " 17  hashtags           257084 non-null  object \n",
      " 18  link               257084 non-null  object \n",
      " 19  quote_url          257084 non-null  object \n",
      " 20  video              257084 non-null  int64  \n",
      " 21  thumbnail          257084 non-null  object \n",
      " 22  reply_to           257084 non-null  object \n",
      " 23  tweet_len          257084 non-null  int64  \n",
      " 24  nick_len           257084 non-null  int64  \n",
      " 25  nick_count_Q       257084 non-null  int64  \n",
      " 26  tweet_count_Q      257084 non-null  int64  \n",
      " 27  tweet_count_space  257084 non-null  int64  \n",
      " 28  space_div_len      257084 non-null  float64\n",
      " 29  last_word          257084 non-null  int64  \n",
      " 30  search_word        257084 non-null  object \n",
      " 31  noun_div_pos       257084 non-null  float64\n",
      " 32  y                  257084 non-null  int64  \n",
      "dtypes: float64(5), int64(12), object(16)\n",
      "memory usage: 64.7+ MB\n"
     ]
    }
   ],
   "source": [
    "df.info()"
   ]
  },
  {
   "cell_type": "markdown",
   "metadata": {},
   "source": [
    "### 이상치 처리"
   ]
  },
  {
   "cell_type": "code",
   "execution_count": 6,
   "metadata": {},
   "outputs": [
    {
     "data": {
      "image/png": "[encoded data removed]",
      "text/plain": [
       "<Figure size 1080x720 with 8 Axes>"
      ]
     },
     "metadata": {
      "needs_background": "light"
     },
     "output_type": "display_data"
    }
   ],
   "source": [
    "fig, axis = plt.subplots(4, 2, figsize = (15,10))\n",
    "plt.tight_layout()\n",
    "\n",
    "#int형인 열들(int이고 boolean인 열은 제외)\n",
    "ax1 = sns.boxplot(x='replies_count',data=df, ax=axis[0,0])\n",
    "ax2 = sns.boxplot(x='retweets_count',data=df, ax=axis[0,1])\n",
    "ax3 = sns.boxplot(x='likes_count',data=df, ax=axis[1,0])\n",
    "ax4 = sns.boxplot(x='tweet_len',data=df, ax=axis[1,1])\n",
    "ax5 = sns.boxplot(x='nick_len',data=df, ax=axis[2,0])\n",
    "ax6 = sns.boxplot(x='nick_count_Q',data=df, ax=axis[2,1])\n",
    "ax7 = sns.boxplot(x='tweet_count_Q',data=df, ax=axis[3,0])\n",
    "ax8 = sns.boxplot(x='tweet_count_space',data=df, ax=axis[3,1])"
   ]
  },
  {
   "cell_type": "code",
   "execution_count": 93,
   "metadata": {},
   "outputs": [],
   "source": [
    "#Z-score의 절대값이 3 이상인 행을 가져오는 함수\n",
    "def get_outlier(df=None, column=None):\n",
    "    threshold = 3\n",
    "    \n",
    "    mean = np.mean(df[column])\n",
    "    std = np.std(df[column])\n",
    "    \n",
    "    z_score = [(y-mean)/std for y in df[column]]\n",
    "    \n",
    "    masks = np.where(np.abs(z_score)>threshold)\n",
    "    return masks"
   ]
  },
  {
   "cell_type": "code",
   "execution_count": 8,
   "metadata": {},
   "outputs": [],
   "source": [
    "#삭제할 행 가져오기\n",
    "col = ['replies_count','retweets_count','likes_count','tweet_len','nick_len','nick_count_Q','tweet_count_Q','tweet_count_space']\n",
    "list = []\n",
    "for c in col:\n",
    "    a = get_outlier(df=df, column=c)\n",
    "    if a is not None:\n",
    "        list.append(a)"
   ]
  },
  {
   "cell_type": "code",
   "execution_count": 11,
   "metadata": {},
   "outputs": [],
   "source": [
    "#3차원 리스트를 1차원 리스트로 만들기\n",
    "list = [element for array in list for element in array]\n",
    "list = [element for array in list for element in array]"
   ]
  },
  {
   "cell_type": "code",
   "execution_count": 12,
   "metadata": {},
   "outputs": [
    {
     "data": {
      "text/plain": [
       "43169"
      ]
     },
     "execution_count": 12,
     "metadata": {},
     "output_type": "execute_result"
    }
   ],
   "source": [
    "len(list)"
   ]
  },
  {
   "cell_type": "code",
   "execution_count": 13,
   "metadata": {},
   "outputs": [
    {
     "data": {
      "text/plain": [
       "30478"
      ]
     },
     "execution_count": 13,
     "metadata": {},
     "output_type": "execute_result"
    }
   ],
   "source": [
    "list=set(list) #중복값 제거\n",
    "len(list)"
   ]
  },
  {
   "cell_type": "code",
   "execution_count": 14,
   "metadata": {},
   "outputs": [],
   "source": [
    "df.drop(list, inplace=True, axis=0) #이상치 제거"
   ]
  },
  {
   "cell_type": "markdown",
   "metadata": {},
   "source": [
    "### 검색어 열 값 수정"
   ]
  },
  {
   "cell_type": "code",
   "execution_count": 15,
   "metadata": {},
   "outputs": [],
   "source": [
    "index=df[df.search_word=='성매매광고트윗_트렌드'].index"
   ]
  },
  {
   "cell_type": "code",
   "execution_count": 16,
   "metadata": {},
   "outputs": [],
   "source": [
    "trend=['더블헤더', '미세먼지', '보건실침대', '수업시간몰폰', '어버이날', '피어리스', '허벅지씨름', '호흡곤란']"
   ]
  },
  {
   "cell_type": "code",
   "execution_count": 17,
   "metadata": {},
   "outputs": [
    {
     "name": "stderr",
     "output_type": "stream",
     "text": [
      "<ipython-input-17-adce5eebefd1>:4: SettingWithCopyWarning: \n",
      "A value is trying to be set on a copy of a slice from a DataFrame\n",
      "\n",
      "See the caveats in the documentation: https://pandas.pydata.org/pandas-docs/stable/user_guide/indexing.html#returning-a-view-versus-a-copy\n",
      "  df['search_word'][i]=t\n"
     ]
    }
   ],
   "source": [
    "#트렌드 키워드가 본문(트윗) 내에 있으면 검색어 열 값을 해당 키워드로 수정\n",
    "for i in index:\n",
    "    for t in trend:\n",
    "        if (df['tweet'][i].find(t) != -1): #지정한 문자를 찾지 못한 경우 -1 반환(찾으면 인덱스 반환)\n",
    "            df['search_word'][i]=t\n",
    "            break"
   ]
  },
  {
   "cell_type": "code",
   "execution_count": 24,
   "metadata": {},
   "outputs": [
    {
     "data": {
      "text/plain": [
       "247744    순서대로 남준 윤기 석진 호석 지민 태형 정국 (공식표기)같은데 창문 모양은 별 상관 없는 거겠지?? 근데 그림들이 너무 실명제다ㅋㅋㅋㅋㅋㅋ 윤기 피아노라니 나 설레도 되는 부분이지..  https://t.co/ASFwQFFAuw\n",
       "Name: tweet, dtype: object"
      ]
     },
     "execution_count": 24,
     "metadata": {},
     "output_type": "execute_result"
    }
   ],
   "source": [
    "pd.set_option('display.max_colwidth', None) #열 너비 제한 없애기\n",
    "df[df.search_word=='성매매광고트윗_트렌드'].tweet #트렌드 키워드가 트윗에 포함되지 않은 경우"
   ]
  },
  {
   "cell_type": "code",
   "execution_count": 25,
   "metadata": {},
   "outputs": [],
   "source": [
    "df.drop(247744, inplace=True)"
   ]
  },
  {
   "cell_type": "code",
   "execution_count": 31,
   "metadata": {},
   "outputs": [],
   "source": [
    "df.drop(['index'], inplace=True, axis=1)"
   ]
  },
  {
   "cell_type": "code",
   "execution_count": 36,
   "metadata": {},
   "outputs": [],
   "source": [
    "df.to_csv('data/dataset.csv', index=False, encoding='CP949')"
   ]
  },
  {
   "cell_type": "markdown",
   "metadata": {},
   "source": [
    "## 0610 데이터 합치기"
   ]
  },
  {
   "cell_type": "code",
   "execution_count": 6,
   "metadata": {},
   "outputs": [],
   "source": [
    "#기존에 사용하던 파일(검색어를 기준으로 크롤)\n",
    "df=pd.read_csv('data/dataset.csv', encoding='CP949', low_memory=False)"
   ]
  },
  {
   "cell_type": "code",
   "execution_count": 7,
   "metadata": {},
   "outputs": [],
   "source": [
    "#추가로 크롤링한 파일(계정을 기준으로 크롤)\n",
    "df2=pd.read_csv('data/계정크롤링(전처리-일반,타광고삭제) (계정정보,타임라인 트윗 모두 포함).csv', encoding='CP949', low_memory=False)"
   ]
  },
  {
   "cell_type": "code",
   "execution_count": 62,
   "metadata": {},
   "outputs": [
    {
     "data": {
      "text/plain": [
       "['reply_to']"
      ]
     },
     "execution_count": 62,
     "metadata": {},
     "output_type": "execute_result"
    }
   ],
   "source": [
    "#df에만 있는 열\n",
    "a=df.columns.tolist()\n",
    "b=df2.columns.tolist()\n",
    "\n",
    "for i in b:\n",
    "    if i in a:\n",
    "        a.remove(i)\n",
    "a"
   ]
  },
  {
   "cell_type": "code",
   "execution_count": 63,
   "metadata": {},
   "outputs": [
    {
     "data": {
      "text/plain": [
       "['Unnamed: 0',\n",
       " 'retweet_user_id',\n",
       " 'retweet_username',\n",
       " 'retweet_id',\n",
       " 'retweet_date',\n",
       " 'tweet_type',\n",
       " 'account_create_date',\n",
       " 'description',\n",
       " 'follwers_count',\n",
       " 'followings_count',\n",
       " 'tweets_count',\n",
       " 'media_count',\n",
       " 'favourites_count',\n",
       " 'media_ratio']"
      ]
     },
     "execution_count": 63,
     "metadata": {},
     "output_type": "execute_result"
    }
   ],
   "source": [
    "#df2에만 있는 열\n",
    "a=df.columns.tolist()\n",
    "b=df2.columns.tolist()\n",
    "\n",
    "for i in a:\n",
    "    if i in b:\n",
    "        b.remove(i)\n",
    "b"
   ]
  },
  {
   "cell_type": "code",
   "execution_count": 70,
   "metadata": {},
   "outputs": [],
   "source": [
    "df.drop('reply_to', axis=1, inplace=True)"
   ]
  },
  {
   "cell_type": "code",
   "execution_count": 71,
   "metadata": {},
   "outputs": [],
   "source": [
    "df2.drop(['Unnamed: 0',\n",
    " 'retweet_user_id',\n",
    " 'retweet_username',\n",
    " 'retweet_id',\n",
    " 'retweet_date',\n",
    " 'tweet_type',\n",
    " 'account_create_date',\n",
    " 'description',\n",
    " 'follwers_count',\n",
    " 'followings_count',\n",
    " 'tweets_count',\n",
    " 'media_count',\n",
    " 'favourites_count',\n",
    " 'media_ratio'], axis=1, inplace=True)"
   ]
  },
  {
   "cell_type": "code",
   "execution_count": 73,
   "metadata": {},
   "outputs": [
    {
     "name": "stdout",
     "output_type": "stream",
     "text": [
      "<class 'pandas.core.frame.DataFrame'>\n",
      "RangeIndex: 226605 entries, 0 to 226604\n",
      "Data columns (total 31 columns):\n",
      " #   Column             Non-Null Count   Dtype  \n",
      "---  ------             --------------   -----  \n",
      " 0   id                 226605 non-null  float64\n",
      " 1   conversation_id    226605 non-null  float64\n",
      " 2   created_at         226605 non-null  object \n",
      " 3   date               226605 non-null  object \n",
      " 4   time               226605 non-null  object \n",
      " 5   user_id            226605 non-null  float64\n",
      " 6   username           226605 non-null  object \n",
      " 7   name               226605 non-null  object \n",
      " 8   tweet              226605 non-null  object \n",
      " 9   language           226605 non-null  object \n",
      " 10  mentions           226605 non-null  object \n",
      " 11  urls               226605 non-null  object \n",
      " 12  photos             226605 non-null  object \n",
      " 13  replies_count      226605 non-null  int64  \n",
      " 14  retweets_count     226605 non-null  int64  \n",
      " 15  likes_count        226605 non-null  int64  \n",
      " 16  hashtags           226605 non-null  object \n",
      " 17  link               226605 non-null  object \n",
      " 18  quote_url          226605 non-null  object \n",
      " 19  video              226605 non-null  int64  \n",
      " 20  thumbnail          226605 non-null  object \n",
      " 21  tweet_len          226605 non-null  int64  \n",
      " 22  nick_len           226605 non-null  int64  \n",
      " 23  nick_count_Q       226605 non-null  int64  \n",
      " 24  tweet_count_Q      226605 non-null  int64  \n",
      " 25  tweet_count_space  226605 non-null  int64  \n",
      " 26  space_div_len      226605 non-null  float64\n",
      " 27  last_word          226605 non-null  int64  \n",
      " 28  search_word        226605 non-null  object \n",
      " 29  noun_div_pos       226605 non-null  float64\n",
      " 30  y                  226605 non-null  int64  \n",
      "dtypes: float64(5), int64(11), object(15)\n",
      "memory usage: 53.6+ MB\n"
     ]
    }
   ],
   "source": [
    "df.info()"
   ]
  },
  {
   "cell_type": "code",
   "execution_count": 72,
   "metadata": {},
   "outputs": [
    {
     "name": "stdout",
     "output_type": "stream",
     "text": [
      "<class 'pandas.core.frame.DataFrame'>\n",
      "RangeIndex: 6074 entries, 0 to 6073\n",
      "Data columns (total 31 columns):\n",
      " #   Column             Non-Null Count  Dtype  \n",
      "---  ------             --------------  -----  \n",
      " 0   id                 2724 non-null   float64\n",
      " 1   conversation_id    2724 non-null   float64\n",
      " 2   created_at         2724 non-null   object \n",
      " 3   date               2724 non-null   object \n",
      " 4   time               2724 non-null   object \n",
      " 5   tweet              2724 non-null   object \n",
      " 6   language           2724 non-null   object \n",
      " 7   mentions           2724 non-null   object \n",
      " 8   urls               2724 non-null   object \n",
      " 9   photos             2724 non-null   object \n",
      " 10  replies_count      2724 non-null   float64\n",
      " 11  retweets_count     2724 non-null   float64\n",
      " 12  likes_count        2724 non-null   float64\n",
      " 13  hashtags           2724 non-null   object \n",
      " 14  link               2724 non-null   object \n",
      " 15  quote_url          1 non-null      object \n",
      " 16  video              2724 non-null   object \n",
      " 17  thumbnail          2705 non-null   object \n",
      " 18  tweet_len          2724 non-null   float64\n",
      " 19  tweet_count_Q      2724 non-null   float64\n",
      " 20  tweet_count_space  2724 non-null   float64\n",
      " 21  space_div_len      2724 non-null   float64\n",
      " 22  last_word          2724 non-null   object \n",
      " 23  search_word        2724 non-null   object \n",
      " 24  noun_div_pos       2724 non-null   float64\n",
      " 25  y                  2724 non-null   float64\n",
      " 26  user_id            2724 non-null   float64\n",
      " 27  username           2724 non-null   object \n",
      " 28  name               2724 non-null   object \n",
      " 29  nick_len           2724 non-null   float64\n",
      " 30  nick_count_Q       2724 non-null   float64\n",
      "dtypes: float64(14), object(17)\n",
      "memory usage: 1.4+ MB\n"
     ]
    }
   ],
   "source": [
    "df2.info()"
   ]
  },
  {
   "cell_type": "code",
   "execution_count": 74,
   "metadata": {},
   "outputs": [
    {
     "data": {
      "text/html": [
       "<div>\n",
       "<style scoped>\n",
       "    .dataframe tbody tr th:only-of-type {\n",
       "        vertical-align: middle;\n",
       "    }\n",
       "\n",
       "    .dataframe tbody tr th {\n",
       "        vertical-align: top;\n",
       "    }\n",
       "\n",
       "    .dataframe thead th {\n",
       "        text-align: right;\n",
       "    }\n",
       "</style>\n",
       "<table border=\"1\" class=\"dataframe\">\n",
       "  <thead>\n",
       "    <tr style=\"text-align: right;\">\n",
       "      <th></th>\n",
       "      <th>id</th>\n",
       "      <th>conversation_id</th>\n",
       "      <th>created_at</th>\n",
       "      <th>date</th>\n",
       "      <th>time</th>\n",
       "      <th>tweet</th>\n",
       "      <th>language</th>\n",
       "      <th>mentions</th>\n",
       "      <th>urls</th>\n",
       "      <th>photos</th>\n",
       "      <th>...</th>\n",
       "      <th>space_div_len</th>\n",
       "      <th>last_word</th>\n",
       "      <th>search_word</th>\n",
       "      <th>noun_div_pos</th>\n",
       "      <th>y</th>\n",
       "      <th>user_id</th>\n",
       "      <th>username</th>\n",
       "      <th>name</th>\n",
       "      <th>nick_len</th>\n",
       "      <th>nick_count_Q</th>\n",
       "    </tr>\n",
       "  </thead>\n",
       "  <tbody>\n",
       "    <tr>\n",
       "      <th>2724</th>\n",
       "      <td>NaN</td>\n",
       "      <td>NaN</td>\n",
       "      <td>NaN</td>\n",
       "      <td>NaN</td>\n",
       "      <td>NaN</td>\n",
       "      <td>NaN</td>\n",
       "      <td>NaN</td>\n",
       "      <td>NaN</td>\n",
       "      <td>NaN</td>\n",
       "      <td>NaN</td>\n",
       "      <td>...</td>\n",
       "      <td>NaN</td>\n",
       "      <td>NaN</td>\n",
       "      <td>NaN</td>\n",
       "      <td>NaN</td>\n",
       "      <td>NaN</td>\n",
       "      <td>NaN</td>\n",
       "      <td>NaN</td>\n",
       "      <td>NaN</td>\n",
       "      <td>NaN</td>\n",
       "      <td>NaN</td>\n",
       "    </tr>\n",
       "    <tr>\n",
       "      <th>2725</th>\n",
       "      <td>NaN</td>\n",
       "      <td>NaN</td>\n",
       "      <td>NaN</td>\n",
       "      <td>NaN</td>\n",
       "      <td>NaN</td>\n",
       "      <td>NaN</td>\n",
       "      <td>NaN</td>\n",
       "      <td>NaN</td>\n",
       "      <td>NaN</td>\n",
       "      <td>NaN</td>\n",
       "      <td>...</td>\n",
       "      <td>NaN</td>\n",
       "      <td>NaN</td>\n",
       "      <td>NaN</td>\n",
       "      <td>NaN</td>\n",
       "      <td>NaN</td>\n",
       "      <td>NaN</td>\n",
       "      <td>NaN</td>\n",
       "      <td>NaN</td>\n",
       "      <td>NaN</td>\n",
       "      <td>NaN</td>\n",
       "    </tr>\n",
       "    <tr>\n",
       "      <th>2726</th>\n",
       "      <td>NaN</td>\n",
       "      <td>NaN</td>\n",
       "      <td>NaN</td>\n",
       "      <td>NaN</td>\n",
       "      <td>NaN</td>\n",
       "      <td>NaN</td>\n",
       "      <td>NaN</td>\n",
       "      <td>NaN</td>\n",
       "      <td>NaN</td>\n",
       "      <td>NaN</td>\n",
       "      <td>...</td>\n",
       "      <td>NaN</td>\n",
       "      <td>NaN</td>\n",
       "      <td>NaN</td>\n",
       "      <td>NaN</td>\n",
       "      <td>NaN</td>\n",
       "      <td>NaN</td>\n",
       "      <td>NaN</td>\n",
       "      <td>NaN</td>\n",
       "      <td>NaN</td>\n",
       "      <td>NaN</td>\n",
       "    </tr>\n",
       "    <tr>\n",
       "      <th>2727</th>\n",
       "      <td>NaN</td>\n",
       "      <td>NaN</td>\n",
       "      <td>NaN</td>\n",
       "      <td>NaN</td>\n",
       "      <td>NaN</td>\n",
       "      <td>NaN</td>\n",
       "      <td>NaN</td>\n",
       "      <td>NaN</td>\n",
       "      <td>NaN</td>\n",
       "      <td>NaN</td>\n",
       "      <td>...</td>\n",
       "      <td>NaN</td>\n",
       "      <td>NaN</td>\n",
       "      <td>NaN</td>\n",
       "      <td>NaN</td>\n",
       "      <td>NaN</td>\n",
       "      <td>NaN</td>\n",
       "      <td>NaN</td>\n",
       "      <td>NaN</td>\n",
       "      <td>NaN</td>\n",
       "      <td>NaN</td>\n",
       "    </tr>\n",
       "    <tr>\n",
       "      <th>2728</th>\n",
       "      <td>NaN</td>\n",
       "      <td>NaN</td>\n",
       "      <td>NaN</td>\n",
       "      <td>NaN</td>\n",
       "      <td>NaN</td>\n",
       "      <td>NaN</td>\n",
       "      <td>NaN</td>\n",
       "      <td>NaN</td>\n",
       "      <td>NaN</td>\n",
       "      <td>NaN</td>\n",
       "      <td>...</td>\n",
       "      <td>NaN</td>\n",
       "      <td>NaN</td>\n",
       "      <td>NaN</td>\n",
       "      <td>NaN</td>\n",
       "      <td>NaN</td>\n",
       "      <td>NaN</td>\n",
       "      <td>NaN</td>\n",
       "      <td>NaN</td>\n",
       "      <td>NaN</td>\n",
       "      <td>NaN</td>\n",
       "    </tr>\n",
       "    <tr>\n",
       "      <th>...</th>\n",
       "      <td>...</td>\n",
       "      <td>...</td>\n",
       "      <td>...</td>\n",
       "      <td>...</td>\n",
       "      <td>...</td>\n",
       "      <td>...</td>\n",
       "      <td>...</td>\n",
       "      <td>...</td>\n",
       "      <td>...</td>\n",
       "      <td>...</td>\n",
       "      <td>...</td>\n",
       "      <td>...</td>\n",
       "      <td>...</td>\n",
       "      <td>...</td>\n",
       "      <td>...</td>\n",
       "      <td>...</td>\n",
       "      <td>...</td>\n",
       "      <td>...</td>\n",
       "      <td>...</td>\n",
       "      <td>...</td>\n",
       "      <td>...</td>\n",
       "    </tr>\n",
       "    <tr>\n",
       "      <th>6069</th>\n",
       "      <td>NaN</td>\n",
       "      <td>NaN</td>\n",
       "      <td>NaN</td>\n",
       "      <td>NaN</td>\n",
       "      <td>NaN</td>\n",
       "      <td>NaN</td>\n",
       "      <td>NaN</td>\n",
       "      <td>NaN</td>\n",
       "      <td>NaN</td>\n",
       "      <td>NaN</td>\n",
       "      <td>...</td>\n",
       "      <td>NaN</td>\n",
       "      <td>NaN</td>\n",
       "      <td>NaN</td>\n",
       "      <td>NaN</td>\n",
       "      <td>NaN</td>\n",
       "      <td>NaN</td>\n",
       "      <td>NaN</td>\n",
       "      <td>NaN</td>\n",
       "      <td>NaN</td>\n",
       "      <td>NaN</td>\n",
       "    </tr>\n",
       "    <tr>\n",
       "      <th>6070</th>\n",
       "      <td>NaN</td>\n",
       "      <td>NaN</td>\n",
       "      <td>NaN</td>\n",
       "      <td>NaN</td>\n",
       "      <td>NaN</td>\n",
       "      <td>NaN</td>\n",
       "      <td>NaN</td>\n",
       "      <td>NaN</td>\n",
       "      <td>NaN</td>\n",
       "      <td>NaN</td>\n",
       "      <td>...</td>\n",
       "      <td>NaN</td>\n",
       "      <td>NaN</td>\n",
       "      <td>NaN</td>\n",
       "      <td>NaN</td>\n",
       "      <td>NaN</td>\n",
       "      <td>NaN</td>\n",
       "      <td>NaN</td>\n",
       "      <td>NaN</td>\n",
       "      <td>NaN</td>\n",
       "      <td>NaN</td>\n",
       "    </tr>\n",
       "    <tr>\n",
       "      <th>6071</th>\n",
       "      <td>NaN</td>\n",
       "      <td>NaN</td>\n",
       "      <td>NaN</td>\n",
       "      <td>NaN</td>\n",
       "      <td>NaN</td>\n",
       "      <td>NaN</td>\n",
       "      <td>NaN</td>\n",
       "      <td>NaN</td>\n",
       "      <td>NaN</td>\n",
       "      <td>NaN</td>\n",
       "      <td>...</td>\n",
       "      <td>NaN</td>\n",
       "      <td>NaN</td>\n",
       "      <td>NaN</td>\n",
       "      <td>NaN</td>\n",
       "      <td>NaN</td>\n",
       "      <td>NaN</td>\n",
       "      <td>NaN</td>\n",
       "      <td>NaN</td>\n",
       "      <td>NaN</td>\n",
       "      <td>NaN</td>\n",
       "    </tr>\n",
       "    <tr>\n",
       "      <th>6072</th>\n",
       "      <td>NaN</td>\n",
       "      <td>NaN</td>\n",
       "      <td>NaN</td>\n",
       "      <td>NaN</td>\n",
       "      <td>NaN</td>\n",
       "      <td>NaN</td>\n",
       "      <td>NaN</td>\n",
       "      <td>NaN</td>\n",
       "      <td>NaN</td>\n",
       "      <td>NaN</td>\n",
       "      <td>...</td>\n",
       "      <td>NaN</td>\n",
       "      <td>NaN</td>\n",
       "      <td>NaN</td>\n",
       "      <td>NaN</td>\n",
       "      <td>NaN</td>\n",
       "      <td>NaN</td>\n",
       "      <td>NaN</td>\n",
       "      <td>NaN</td>\n",
       "      <td>NaN</td>\n",
       "      <td>NaN</td>\n",
       "    </tr>\n",
       "    <tr>\n",
       "      <th>6073</th>\n",
       "      <td>NaN</td>\n",
       "      <td>NaN</td>\n",
       "      <td>NaN</td>\n",
       "      <td>NaN</td>\n",
       "      <td>NaN</td>\n",
       "      <td>NaN</td>\n",
       "      <td>NaN</td>\n",
       "      <td>NaN</td>\n",
       "      <td>NaN</td>\n",
       "      <td>NaN</td>\n",
       "      <td>...</td>\n",
       "      <td>NaN</td>\n",
       "      <td>NaN</td>\n",
       "      <td>NaN</td>\n",
       "      <td>NaN</td>\n",
       "      <td>NaN</td>\n",
       "      <td>NaN</td>\n",
       "      <td>NaN</td>\n",
       "      <td>NaN</td>\n",
       "      <td>NaN</td>\n",
       "      <td>NaN</td>\n",
       "    </tr>\n",
       "  </tbody>\n",
       "</table>\n",
       "<p>3350 rows × 31 columns</p>\n",
       "</div>"
      ],
      "text/plain": [
       "      id  conversation_id created_at date time tweet language mentions urls  \\\n",
       "2724 NaN              NaN        NaN  NaN  NaN   NaN      NaN      NaN  NaN   \n",
       "2725 NaN              NaN        NaN  NaN  NaN   NaN      NaN      NaN  NaN   \n",
       "2726 NaN              NaN        NaN  NaN  NaN   NaN      NaN      NaN  NaN   \n",
       "2727 NaN              NaN        NaN  NaN  NaN   NaN      NaN      NaN  NaN   \n",
       "2728 NaN              NaN        NaN  NaN  NaN   NaN      NaN      NaN  NaN   \n",
       "...   ..              ...        ...  ...  ...   ...      ...      ...  ...   \n",
       "6069 NaN              NaN        NaN  NaN  NaN   NaN      NaN      NaN  NaN   \n",
       "6070 NaN              NaN        NaN  NaN  NaN   NaN      NaN      NaN  NaN   \n",
       "6071 NaN              NaN        NaN  NaN  NaN   NaN      NaN      NaN  NaN   \n",
       "6072 NaN              NaN        NaN  NaN  NaN   NaN      NaN      NaN  NaN   \n",
       "6073 NaN              NaN        NaN  NaN  NaN   NaN      NaN      NaN  NaN   \n",
       "\n",
       "     photos  ...  space_div_len  last_word  search_word noun_div_pos   y  \\\n",
       "2724    NaN  ...            NaN        NaN          NaN          NaN NaN   \n",
       "2725    NaN  ...            NaN        NaN          NaN          NaN NaN   \n",
       "2726    NaN  ...            NaN        NaN          NaN          NaN NaN   \n",
       "2727    NaN  ...            NaN        NaN          NaN          NaN NaN   \n",
       "2728    NaN  ...            NaN        NaN          NaN          NaN NaN   \n",
       "...     ...  ...            ...        ...          ...          ...  ..   \n",
       "6069    NaN  ...            NaN        NaN          NaN          NaN NaN   \n",
       "6070    NaN  ...            NaN        NaN          NaN          NaN NaN   \n",
       "6071    NaN  ...            NaN        NaN          NaN          NaN NaN   \n",
       "6072    NaN  ...            NaN        NaN          NaN          NaN NaN   \n",
       "6073    NaN  ...            NaN        NaN          NaN          NaN NaN   \n",
       "\n",
       "     user_id username name  nick_len  nick_count_Q  \n",
       "2724     NaN      NaN  NaN       NaN           NaN  \n",
       "2725     NaN      NaN  NaN       NaN           NaN  \n",
       "2726     NaN      NaN  NaN       NaN           NaN  \n",
       "2727     NaN      NaN  NaN       NaN           NaN  \n",
       "2728     NaN      NaN  NaN       NaN           NaN  \n",
       "...      ...      ...  ...       ...           ...  \n",
       "6069     NaN      NaN  NaN       NaN           NaN  \n",
       "6070     NaN      NaN  NaN       NaN           NaN  \n",
       "6071     NaN      NaN  NaN       NaN           NaN  \n",
       "6072     NaN      NaN  NaN       NaN           NaN  \n",
       "6073     NaN      NaN  NaN       NaN           NaN  \n",
       "\n",
       "[3350 rows x 31 columns]"
      ]
     },
     "execution_count": 74,
     "metadata": {},
     "output_type": "execute_result"
    }
   ],
   "source": [
    "#3350개의 행이 모든 열에서 null값이므로 삭제\n",
    "df2[df2.id.isnull()]"
   ]
  },
  {
   "cell_type": "code",
   "execution_count": 76,
   "metadata": {},
   "outputs": [],
   "source": [
    "df2.drop(df2[df2.id.isnull()].index, inplace=True)"
   ]
  },
  {
   "cell_type": "code",
   "execution_count": 80,
   "metadata": {},
   "outputs": [],
   "source": [
    "#null값 처리\n",
    "df2['quote_url']=df2['quote_url'].fillna('[]')"
   ]
  },
  {
   "cell_type": "code",
   "execution_count": 82,
   "metadata": {},
   "outputs": [],
   "source": [
    "#데이터 타입 정리\n",
    "df2[['replies_count','retweets_count','likes_count','tweet_len','tweet_count_Q','tweet_count_space','y','nick_len','nick_count_Q']]=df2[['replies_count','retweets_count','likes_count','tweet_len','tweet_count_Q','tweet_count_space','y','nick_len','nick_count_Q']].astype(int)"
   ]
  },
  {
   "cell_type": "code",
   "execution_count": 85,
   "metadata": {},
   "outputs": [],
   "source": [
    "#데이터 프레임 합치기\n",
    "df3=pd.concat([df,df2])"
   ]
  },
  {
   "cell_type": "code",
   "execution_count": 86,
   "metadata": {},
   "outputs": [],
   "source": [
    "#인덱스 재설정\n",
    "df3.reset_index(drop=True, inplace=True)"
   ]
  },
  {
   "cell_type": "code",
   "execution_count": 118,
   "metadata": {},
   "outputs": [],
   "source": [
    "#이상치 처리\n",
    "#위의 Z-score를 사용한 함수 get_outlier을 사용하여 이상치 행을 얻음\n",
    "col = ['replies_count','retweets_count','likes_count','tweet_len','nick_len','nick_count_Q','tweet_count_Q','tweet_count_space']\n",
    "list = []\n",
    "for c in col:\n",
    "    a = get_outlier(df=df3, column=c)\n",
    "    if a is not None:\n",
    "        list.append(a)"
   ]
  },
  {
   "cell_type": "code",
   "execution_count": 119,
   "metadata": {},
   "outputs": [],
   "source": [
    "#3차원 리스트 1차원으로 만들기\n",
    "list = [element for array in list for element in array]\n",
    "list = [element for array in list for element in array]"
   ]
  },
  {
   "cell_type": "code",
   "execution_count": 120,
   "metadata": {},
   "outputs": [
    {
     "data": {
      "text/plain": [
       "19657"
      ]
     },
     "execution_count": 120,
     "metadata": {},
     "output_type": "execute_result"
    }
   ],
   "source": [
    "len(list)"
   ]
  },
  {
   "cell_type": "code",
   "execution_count": 121,
   "metadata": {},
   "outputs": [
    {
     "data": {
      "text/plain": [
       "16045"
      ]
     },
     "execution_count": 121,
     "metadata": {},
     "output_type": "execute_result"
    }
   ],
   "source": [
    "list=set(list) #중복값 제거\n",
    "len(list)"
   ]
  },
  {
   "cell_type": "code",
   "execution_count": 123,
   "metadata": {},
   "outputs": [],
   "source": [
    "#이상치 행 삭제\n",
    "df3.drop(list, inplace=True, axis=0)"
   ]
  },
  {
   "cell_type": "code",
   "execution_count": 124,
   "metadata": {},
   "outputs": [],
   "source": [
    "df3.reset_index(drop=True, inplace=True) #인덱스 재설정\n",
    "df3.to_csv('data/dataset2.csv', index=False, encoding='CP949')"
   ]
  },
  {
   "cell_type": "code",
   "execution_count": 125,
   "metadata": {},
   "outputs": [
    {
     "name": "stdout",
     "output_type": "stream",
     "text": [
      "<class 'pandas.core.frame.DataFrame'>\n",
      "RangeIndex: 213284 entries, 0 to 213283\n",
      "Data columns (total 31 columns):\n",
      " #   Column             Non-Null Count   Dtype  \n",
      "---  ------             --------------   -----  \n",
      " 0   id                 213284 non-null  float64\n",
      " 1   conversation_id    213284 non-null  float64\n",
      " 2   created_at         213284 non-null  object \n",
      " 3   date               213284 non-null  object \n",
      " 4   time               213284 non-null  object \n",
      " 5   user_id            213284 non-null  float64\n",
      " 6   username           213284 non-null  object \n",
      " 7   name               213284 non-null  object \n",
      " 8   tweet              213284 non-null  object \n",
      " 9   language           213284 non-null  object \n",
      " 10  mentions           213284 non-null  object \n",
      " 11  urls               213284 non-null  object \n",
      " 12  photos             213284 non-null  object \n",
      " 13  replies_count      213284 non-null  int64  \n",
      " 14  retweets_count     213284 non-null  int64  \n",
      " 15  likes_count        213284 non-null  int64  \n",
      " 16  hashtags           213284 non-null  object \n",
      " 17  link               213284 non-null  object \n",
      " 18  quote_url          213284 non-null  object \n",
      " 19  video              213284 non-null  object \n",
      " 20  thumbnail          213284 non-null  object \n",
      " 21  tweet_len          213284 non-null  int64  \n",
      " 22  nick_len           213284 non-null  int64  \n",
      " 23  nick_count_Q       213284 non-null  int64  \n",
      " 24  tweet_count_Q      213284 non-null  int64  \n",
      " 25  tweet_count_space  213284 non-null  int64  \n",
      " 26  space_div_len      213284 non-null  float64\n",
      " 27  last_word          213284 non-null  object \n",
      " 28  search_word        213284 non-null  object \n",
      " 29  noun_div_pos       213284 non-null  float64\n",
      " 30  y                  213284 non-null  int64  \n",
      "dtypes: float64(5), int64(9), object(17)\n",
      "memory usage: 50.4+ MB\n"
     ]
    }
   ],
   "source": [
    "df3.info()"
   ]
  },
  {
   "cell_type": "code",
   "execution_count": null,
   "metadata": {},
   "outputs": [],
   "source": []
  }
 ],
 "metadata": {
  "kernelspec": {
   "display_name": "Python 3",
   "language": "python",
   "name": "python3"
  },
  "language_info": {
   "codemirror_mode": {
    "name": "ipython",
    "version": 3
   },
   "file_extension": ".py",
   "mimetype": "text/x-python",
   "name": "python",
   "nbconvert_exporter": "python",
   "pygments_lexer": "ipython3",
   "version": "3.8.3"
  }
 },
 "nbformat": 4,
 "nbformat_minor": 4
}
